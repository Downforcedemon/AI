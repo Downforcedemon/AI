{
 "cells": [
  {
   "cell_type": "code",
   "execution_count": 1,
   "metadata": {},
   "outputs": [
    {
     "data": {
      "text/plain": [
       "'\\nuse transformers to load model --> AutoModelForCausalLM module to load model and tokenizer\\n\\n- Apply quantization(e.g int8) to reduce RAM usage and optimize performance\\n\\n- module \\n'"
      ]
     },
     "execution_count": 1,
     "metadata": {},
     "output_type": "execute_result"
    }
   ],
   "source": [
    "'''\n",
    "use transformers to load model --> AutoModelForCausalLM module to load model and tokenizer\n",
    "\n",
    "- Apply quantization(e.g int8) to reduce RAM usage and optimize performance\n",
    "\n",
    "- module \n",
    "'''\n",
    "'''\n",
    "# Libraries\n",
    "transformers: To load and use Hugging Face models.\n",
    "accelerate: For optimization in CPU environments.\n",
    "bitsandbytes: To enable quantized models (if supported).\n",
    "datasets: If any datasets are needed for testing.\n",
    "torch: Install a CPU-compatible version.\n",
    "'''\n",
    "\n",
    "'''\n",
    "pip install transformers accelerate bitsandbytes datasets flask \n",
    "pip install torch --index-url https://download.pytorch.org/whl/cpu\n",
    "'''\n",
    "\n"
   ]
  },
  {
   "cell_type": "code",
   "execution_count": 5,
   "metadata": {},
   "outputs": [],
   "source": [
    "from transformers import AutoModelForCausalLM, AutoTokenizer\n",
    "import torch\n",
    "from flask import Flask, request, jsonify\n"
   ]
  },
  {
   "cell_type": "code",
   "execution_count": 8,
   "metadata": {},
   "outputs": [],
   "source": [
    "# Load model and tokenizer\n",
    "model_name = \"Qwen/Qwen2.5-Math-1.5B\"\n",
    "tokenizer = AutoTokenizer.from_pretrained(model_name)\n",
    "model = AutoModelForCausalLM.from_pretrained(\n",
    "    model_name,\n",
    "    device_map = \"auto\",\n",
    "    torch_dtype=torch.float32\n",
    ")\n"
   ]
  },
  {
   "cell_type": "code",
   "execution_count": 13,
   "metadata": {},
   "outputs": [],
   "source": [
    "# initialize flask api\n",
    "app = Flask(__name__)"
   ]
  },
  {
   "cell_type": "code",
   "execution_count": 14,
   "metadata": {},
   "outputs": [],
   "source": [
    "@app.route(\"/generate\", methods=[\"POST\"])\n",
    "def generate_response():\n",
    "    data = request.json\n",
    "    prompt = data.get(\"prompt\", \"\")\n",
    "    if not prompt:\n",
    "        return jsonify({\"error\": \"Prompt is required\"}), 400\n",
    "    \n",
    "    # Generate a response\n",
    "    input_ids = tokenizer.encode(prompt, return_tensors=\"pt\")\n",
    "    attention_mask = torch.ones_like(input_ids) \n",
    "    output = model.generate(\n",
    "        input_ids,\n",
    "        attention_mask=attention_mask,\n",
    "        max_length=100,\n",
    "        temperature=0.7,\n",
    "        do_sample=True)\n",
    "    response = tokenizer.decode(output[0], skip_special_tokens=True)\n",
    "    \n",
    "    return jsonify({\"response\": response})"
   ]
  },
  {
   "cell_type": "code",
   "execution_count": 15,
   "metadata": {},
   "outputs": [
    {
     "name": "stdout",
     "output_type": "stream",
     "text": [
      " * Serving Flask app '__main__'\n",
      " * Debug mode: off\n"
     ]
    },
    {
     "name": "stderr",
     "output_type": "stream",
     "text": [
      "\u001b[31m\u001b[1mWARNING: This is a development server. Do not use it in a production deployment. Use a production WSGI server instead.\u001b[0m\n",
      " * Running on http://192.168.4.31:5000\n",
      "\u001b[33mPress CTRL+C to quit\u001b[0m\n",
      "192.168.4.20 - - [26/Jan/2025 16:29:33] \"\u001b[31m\u001b[1mPOST /generate HTTP/1.1\u001b[0m\" 415 -\n",
      "Setting `pad_token_id` to `eos_token_id`:151643 for open-end generation.\n",
      "Both `max_new_tokens` (=2048) and `max_length`(=100) seem to have been set. `max_new_tokens` will take precedence. Please refer to the documentation for more information. (https://huggingface.co/docs/transformers/main/en/main_classes/text_generation)\n",
      "192.168.4.20 - - [26/Jan/2025 16:32:09] \"POST /generate HTTP/1.1\" 200 -\n"
     ]
    }
   ],
   "source": [
    "# run flask\n",
    "if __name__ == \"__main__\":\n",
    "    app.run(host=\"192.168.4.31\", port=5000) "
   ]
  },
  {
   "cell_type": "code",
   "execution_count": null,
   "metadata": {},
   "outputs": [],
   "source": [
    "'''curl -X POST http://192.168.4.31:5000/generate \\\n",
    "-H \"Content-Type: application/json\" \\\n",
    "-d '{\"prompt\": \"How can I debug a Python error?\"}'\n",
    "'''"
   ]
  },
  {
   "cell_type": "code",
   "execution_count": null,
   "metadata": {},
   "outputs": [],
   "source": [
    "'''\n",
    "pip install nbconvert\n",
    "\n",
    "jupyter nbconvert --to script install_deepseek.ipynb\n",
    "\n",
    "jupyter nbconvert --to notebook --execute install_deepseek.ipynb\n",
    "\n",
    "jupyter nbconvert --to notebook --execute install_deepseek.ipynb --output executed_install_deepseek.ipynb\n",
    "\n",
    "ls -d ~/.cache/huggingface/hub/models--* | xargs du -sh\n",
    "2.9G    /root/.cache/huggingface/hub/models--Qwen--Qwen2.5-Math-1.5B\n",
    "\n",
    "'''"
   ]
  }
 ],
 "metadata": {
  "kernelspec": {
   "display_name": "Python 3",
   "language": "python",
   "name": "python3"
  },
  "language_info": {
   "codemirror_mode": {
    "name": "ipython",
    "version": 3
   },
   "file_extension": ".py",
   "mimetype": "text/x-python",
   "name": "python",
   "nbconvert_exporter": "python",
   "pygments_lexer": "ipython3",
   "version": "3.12.8"
  }
 },
 "nbformat": 4,
 "nbformat_minor": 2
}
